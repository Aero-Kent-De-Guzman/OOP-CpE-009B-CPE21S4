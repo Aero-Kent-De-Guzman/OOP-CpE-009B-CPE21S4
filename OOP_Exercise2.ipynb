{
  "nbformat": 4,
  "nbformat_minor": 0,
  "metadata": {
    "colab": {
      "provenance": [],
      "authorship_tag": "ABX9TyPh0hCa33jbwFA4FC8XvrLR",
      "include_colab_link": true
    },
    "kernelspec": {
      "name": "python3",
      "display_name": "Python 3"
    },
    "language_info": {
      "name": "python"
    }
  },
  "cells": [
    {
      "cell_type": "markdown",
      "metadata": {
        "id": "view-in-github",
        "colab_type": "text"
      },
      "source": [
        "<a href=\"https://colab.research.google.com/github/Aero-Kent-De-Guzman/OOP-CpE-009B-CPE21S4/blob/main/OOP_Exercise2.ipynb\" target=\"_parent\"><img src=\"https://colab.research.google.com/assets/colab-badge.svg\" alt=\"Open In Colab\"/></a>"
      ]
    },
    {
      "cell_type": "code",
      "execution_count": 4,
      "metadata": {
        "colab": {
          "base_uri": "https://localhost:8080/"
        },
        "id": "CkU70b4LWC9Q",
        "outputId": "43c66378-d674-4b57-81e4-8a75255011ce"
      },
      "outputs": [
        {
          "output_type": "stream",
          "name": "stdout",
          "text": [
            "value a 3\n",
            "value b 4\n"
          ]
        },
        {
          "output_type": "execute_result",
          "data": {
            "text/plain": [
              "7"
            ]
          },
          "metadata": {},
          "execution_count": 4
        }
      ],
      "source": [
        "class foo:\n",
        "  def __init__(self, a, b):\n",
        "    self.a = a\n",
        "    self.b = b\n",
        "  def add(self):\n",
        "    return self.a + self.b\n",
        "\n",
        "foo_object = foo(3,4)\n",
        "print('value a', foo_object.a)\n",
        "print('value b', foo_object.b)\n",
        "foo_object.add()"
      ]
    },
    {
      "cell_type": "markdown",
      "source": [
        "**Example 2**\n",
        "\n",
        "Complete the program by adding object name and print output variable that display the instance/behavior of every function. Apply encapsulation by typing _ single underscore for private variable"
      ],
      "metadata": {
        "id": "TEzEyF13Z7Tg"
      }
    },
    {
      "cell_type": "code",
      "source": [
        "class Counter:\n",
        "  def __init__(self):\n",
        "    self._current = 0 #private variable here as can be seen with _ underscore\n",
        "\n",
        "  def increment(self):\n",
        "    self._current += 1\n",
        "    return self._current\n",
        "\n",
        "  def value(self):\n",
        "    return self._current\n",
        "\n",
        "  def reset(self):\n",
        "    self._current = 0\n",
        "    return self._current\n",
        "\n",
        "#object name\n",
        "num = Counter()\n",
        "#print output for each functions under class.\n",
        "print('inial value', num._current)\n",
        "print('after incrementation', num.increment())\n",
        "print('current value', num.value())\n",
        "print('resetted value', num.reset())"
      ],
      "metadata": {
        "colab": {
          "base_uri": "https://localhost:8080/"
        },
        "id": "DrUOqfIIWj_o",
        "outputId": "20e1fb54-cd0f-431e-aee1-0cde36db9994"
      },
      "execution_count": 21,
      "outputs": [
        {
          "output_type": "stream",
          "name": "stdout",
          "text": [
            "inial value 0\n",
            "after incrementation 1\n",
            "current value 1\n",
            "resetted value 0\n"
          ]
        }
      ]
    }
  ]
}