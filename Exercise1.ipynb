{
  "nbformat": 4,
  "nbformat_minor": 0,
  "metadata": {
    "colab": {
      "provenance": [],
      "authorship_tag": "ABX9TyMe9S8rk6E11Mh+vN0YgGf0",
      "include_colab_link": true
    },
    "kernelspec": {
      "name": "python3",
      "display_name": "Python 3"
    },
    "language_info": {
      "name": "python"
    }
  },
  "cells": [
    {
      "cell_type": "markdown",
      "metadata": {
        "id": "view-in-github",
        "colab_type": "text"
      },
      "source": [
        "<a href=\"https://colab.research.google.com/github/Aero-Kent-De-Guzman/OOP-CpE-009B-CPE21S4/blob/main/Exercise1.ipynb\" target=\"_parent\"><img src=\"https://colab.research.google.com/assets/colab-badge.svg\" alt=\"Open In Colab\"/></a>"
      ]
    },
    {
      "cell_type": "markdown",
      "source": [
        "# **Class Constructor**"
      ],
      "metadata": {
        "id": "HEhrsOS7cCCD"
      }
    },
    {
      "cell_type": "code",
      "execution_count": 43,
      "metadata": {
        "colab": {
          "base_uri": "https://localhost:8080/"
        },
        "id": "wzQ9RBRQFaTu",
        "outputId": "e9699fd9-47df-43eb-f1b2-470bb24ea405"
      },
      "outputs": [
        {
          "output_type": "stream",
          "name": "stdout",
          "text": [
            "My name is Ana and with an age of 19 and birthday of January 3, 2005\n",
            "Mark\n",
            "20\n",
            "April 7, 2004\n"
          ]
        }
      ],
      "source": [
        "#Class constructor\n",
        "\n",
        "class Person:\n",
        "  def __init__(self,name,age,birthdate): #defining attributes and identity\n",
        "    self.name = name\n",
        "    self.age = age\n",
        "    self.birthdate = birthdate\n",
        "\n",
        "  def person_attribute(self): #method constructor\n",
        "    return f'My name is {self.name} and with an age of {self.age} and birthday of {self.birthdate}'\n",
        "\n",
        "class Teacher(Person): #subblass constructor\n",
        "  pass\n",
        "class Student(Person):\n",
        "  pass #subblass constructor\n",
        "\n",
        "#object instantation\n",
        "person = Person('Ana', 19, 'January 3, 2005') #behavior/instance of a class\n",
        "print(person.person_attribute())\n",
        "student = Student('Mark', 20, 'April 7, 2004')\n",
        "print(student.name)\n",
        "print(student.age)\n",
        "print(student.birthdate)"
      ]
    },
    {
      "cell_type": "code",
      "source": [
        "'''\n",
        "# Create an Object Installation using the Teacher SubClass\n",
        "'''\n",
        "\n",
        "teacher = Teacher('Antony', 31, 'May 14, 1989')\n",
        "print(teacher.person_attribute())\n",
        "print(teacher.name)\n",
        "print(teacher.age)\n",
        "print(teacher.birthdate)"
      ],
      "metadata": {
        "colab": {
          "base_uri": "https://localhost:8080/"
        },
        "id": "WJz5rqxtRopL",
        "outputId": "8882dfd8-779f-4643-b73a-4afaae44923f"
      },
      "execution_count": 44,
      "outputs": [
        {
          "output_type": "stream",
          "name": "stdout",
          "text": [
            "My name is Antony and with an age of 31 and birthday of May 14, 1989\n",
            "Antony\n",
            "31\n",
            "May 14, 1989\n"
          ]
        }
      ]
    },
    {
      "cell_type": "markdown",
      "source": [
        "# **Challenge Question**\n",
        "* Create a python program that has the following:\n",
        "\n",
        "  1. Super class named as Shapes\n",
        "  2. Subclasses : Rectangle, Square\n",
        "  3. Methods : Perimeter(), Area()\n",
        "  4. Object Name : rectangle, square\n",
        "  5. Inherits the attributes of super class Shapes\n",
        "  \n",
        "      self.side = side"
      ],
      "metadata": {
        "id": "oKgMCCgGSvvS"
      }
    },
    {
      "cell_type": "code",
      "source": [
        "class Shapes():\n",
        "  def __init__(self,side): # Inherit Attributes\n",
        "    self.side = side\n",
        "\n",
        "class Rectangle(Shapes):\n",
        "  def __init__(self,side,wide):\n",
        "    super().__init__(side)\n",
        "    self.wide = wide\n",
        "\n",
        "  # Methods\n",
        "\n",
        "  def Perimeter(self):\n",
        "    return 2 * (self.side + self.wide)\n",
        "\n",
        "  def Area(self):\n",
        "    return self.side * self.wide\n",
        "\n",
        "class Square(Shapes):\n",
        "  pass\n",
        "\n",
        "  # Methods\n",
        "\n",
        "  def Perimeter(self):\n",
        "    return self.side * 4\n",
        "\n",
        "  def Area(self):\n",
        "    return self.side ** 2\n",
        "\n",
        "n = 1\n",
        "while n != 0:\n",
        "  n = int(input('1 = Rectangle ; 2 = Square ; 0 = stop \\n'))\n",
        "  if n == 1:\n",
        "    length = float(input('please insert the length : '))\n",
        "    width = float(input('please insert the width : '))\n",
        "    rectangle = Rectangle(length,width)   #object name\n",
        "    print('the area is ', rectangle.Area())\n",
        "    print('the perimeter is ', rectangle.Perimeter())\n",
        "  elif n == 2:\n",
        "    side = float(input('please insert the sides : '))\n",
        "    square = Square(side)   #object name\n",
        "    print('the area is ', square.Area())\n",
        "    print('the perimeter is ', square.Perimeter())\n",
        "  else:\n",
        "    break"
      ],
      "metadata": {
        "colab": {
          "base_uri": "https://localhost:8080/"
        },
        "id": "3HJC_B-bS1tT",
        "outputId": "78be1c85-a6e5-4589-d934-c532baa97991"
      },
      "execution_count": 42,
      "outputs": [
        {
          "name": "stdout",
          "output_type": "stream",
          "text": [
            "1 = Rectangle ; 2 = Square ; 0 = stop \n",
            "1\n",
            "please insert the length : 2\n",
            "please insert the width : 4\n",
            "the area is  8.0\n",
            "the perimeter is  12.0\n",
            "1 = Rectangle ; 2 = Square ; 0 = stop \n",
            "2\n",
            "please insert the sides : 5\n",
            "the area is  25.0\n",
            "the perimeter is  20.0\n",
            "1 = Rectangle ; 2 = Square ; 0 = stop \n",
            "0\n"
          ]
        }
      ]
    }
  ]
}